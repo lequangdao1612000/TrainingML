{
 "cells": [
  {
   "cell_type": "code",
   "execution_count": 23,
   "metadata": {},
   "outputs": [],
   "source": [
    "#1 tính toán với thư viện tí :))\n"
   ]
  },
  {
   "cell_type": "code",
   "execution_count": 24,
   "metadata": {},
   "outputs": [],
   "source": [
    "#giải nghiệm với ma trận hệ số  A, ma trận hệ số tự do b\n",
    "\n",
    "A = np.array([[1,-2,3],[2, -5,12], [0,2,-10]])\n",
    "b = np.array([4,5,6])\n"
   ]
  },
  {
   "cell_type": "code",
   "execution_count": 25,
   "metadata": {},
   "outputs": [
    {
     "name": "stdout",
     "output_type": "stream",
     "text": [
      "[[  2.    -5.    12.  ]\n",
      " [  0.     2.   -10.  ]\n",
      " [  0.5    0.25  -0.5 ]]\n",
      "[1 2 2]\n",
      "[10.  3. -0.]\n"
     ]
    }
   ],
   "source": [
    "#Ví dụ 1: đoạn này là code tham khảo để tính ma trận LU nhé\n",
    "import numpy as np\n",
    "from scipy import linalg\n",
    "A= np.array([[1,-2,3], [2,-5,12],[0,2,-10]])\n",
    "b= np.array([4,5,6])\n",
    "lu, piv = linalg.lu_factor(A) # return matrix LU\n",
    "# piv: mo ta hoan vi hang\n",
    "x = linalg.lu_solve((lu,piv),b)\n",
    "print(lu,piv,x, sep='\\n')\n"
   ]
  },
  {
   "cell_type": "code",
   "execution_count": 26,
   "metadata": {},
   "outputs": [
    {
     "data": {
      "text/plain": [
       "array([2, 2, 3, 3], dtype=int32)"
      ]
     },
     "execution_count": 26,
     "metadata": {},
     "output_type": "execute_result"
    }
   ],
   "source": [
    "from scipy.linalg import lu_factor\n",
    "A = np.array([[2, 5, 8, 7], [5, 2, 2, 8], [7, 5, 6, 6], [5, 4, 4, 8]])\n",
    "lu, piv = lu_factor(A)\n",
    "piv\n",
    "# np.array([2, 2, 3, 3], dtype=int32)"
   ]
  },
  {
   "cell_type": "code",
   "execution_count": 31,
   "metadata": {},
   "outputs": [
    {
     "name": "stdout",
     "output_type": "stream",
     "text": [
      "Mo hinh: y=-0.535028+2.006608x\n"
     ]
    },
    {
     "data": {
      "image/png": "[encoded data removed]",
      "text/plain": [
       "<Figure size 432x288 with 1 Axes>"
      ]
     },
     "metadata": {
      "needs_background": "light"
     },
     "output_type": "display_data"
    }
   ],
   "source": [
    "# Ví dụ 2:xây dựng mô hình hồi quy tuyến tính với tập dữ liệu tự tạo \n",
    "import matplotlib.pyplot as plt\n",
    "import numpy as np\n",
    "from sklearn.linear_model import LinearRegression\n",
    "\n",
    "#tao du lieu\n",
    "rng = np.random.RandomState(42)\n",
    "x = 10*rng.rand(50)\n",
    "y = 2*x-1+rng.rand(50)\n",
    "\n",
    "#Xay dung mo hinh\n",
    "model = LinearRegression(fit_intercept = True) #\n",
    "X= x[:,np.newaxis] # dựng \n",
    "model.fit(X,y)\n",
    "print('Mo hinh: y=%f+%fx'%(model.intercept_,model.coef_[0]))\n",
    "\n",
    "#ve do thi\n",
    "xfit = np.linspace(-1,11)\n",
    "Xfit= xfit[:, np.newaxis]\n",
    "yfit = model.predict(Xfit)\n",
    "_=plt.scatter(x,y, label = 'Original data')\n",
    "_=plt.plot(xfit,yfit,'r',label = 'Fitted line')\n",
    "_=plt.legend()\n",
    "plt.show()"
   ]
  },
  {
   "cell_type": "code",
   "execution_count": 7,
   "metadata": {},
   "outputs": [
    {
     "name": "stdout",
     "output_type": "stream",
     "text": [
      "detA=  4.000000000000011\n",
      "inv(A)=  [[ 1.  -1.  -2.   1. ]\n",
      " [-4.   7.5 16.5 -8. ]\n",
      " [-1.5  3.5  8.  -4. ]\n",
      " [-1.5  2.   4.5 -2. ]]\n"
     ]
    },
    {
     "data": {
      "text/plain": [
       "array([ 1. , -1. , -0.5,  0.5])"
      ]
     },
     "execution_count": 7,
     "metadata": {},
     "output_type": "execute_result"
    }
   ],
   "source": [
    "# Ví dụ 3 Giải hệ bằng phương pháp ma trận nghịch đảo\n",
    "import numpy as np\n",
    "A = np.array([[2,1,-1,-1], [2,5,-7,-5],[2,-1,1,3],[5,2,-4,2]])\n",
    "print('detA= ',np.linalg.det(A))\n",
    "print('inv(A)= ',np.linalg.inv(A))\n",
    "b = np.array([1,-2,4,6])\n",
    "np.linalg.solve(A,b)"
   ]
  },
  {
   "cell_type": "code",
   "execution_count": 10,
   "metadata": {},
   "outputs": [
    {
     "name": "stdout",
     "output_type": "stream",
     "text": [
      "[[ 1.   0.   0.   0.   1. ]\n",
      " [ 0.   1.   0.   0.  -1. ]\n",
      " [ 0.   0.   1.   0.  -0.5]\n",
      " [ 0.   0.   0.   1.   0.5]]\n",
      "Nghiệm của hệ: [ 1.  -1.  -0.5  0.5]\n"
     ]
    }
   ],
   "source": [
    "###Thuật toán Khử Gauss\n",
    "def gauss_jordan(A):\n",
    "    m,n = A.shape\n",
    "    pivots=[]   # danh sách chỉ số các hàng chứa phần tử trụ \n",
    "                # đến thời điểm hiện tại\n",
    "    s=-1\n",
    "    # Khử lần lượt từng cột\n",
    "    for j in range(n):\n",
    "        col = A[:,j].copy()\n",
    "        # Chọn phần tử trụ trong cột j \n",
    "        # từ những hàng không nằm trong pivots\n",
    "        for i in pivots:\n",
    "            col[i] = 0\n",
    "        col = np.abs(col)\n",
    "        pivot_arg = np.argmax(col)\n",
    "        pivot = A[pivot_arg,j]\n",
    "        # Biến phần tử trụ thành 1, đổi hàng chứa trụ lên vị trí \n",
    "        # ngay dưới các hàng trong pivots, cập nhật lại pivots,\n",
    "        # khử các phần tử khác trụ trên cột j thành 0\n",
    "        if col[pivot_arg]!=0 and s<m-1:\n",
    "            s+=1\n",
    "            pivots.append(s)\n",
    "            A[pivot_arg,:] = 1/pivot*A[pivot_arg,:]\n",
    "            row_swap = A[s,:].copy()\n",
    "            A[s,:] = A[pivot_arg,:]\n",
    "            A[pivot_arg,:] = row_swap\n",
    "            for i in range(m):\n",
    "                if i!=s:\n",
    "                    A[i,:] -= A[i,j]*A[s,:]\n",
    "\n",
    "A = np.array([2,1,-1,-1,2,5,-7,-5,2,-1,1,3,5,2,-4,2],\n",
    "             dtype=float).reshape(4,4)\n",
    "b = np.array([1,-2,4,6],dtype=float).reshape(-1,1)\n",
    "\n",
    "# Ma trận hệ số mở rộng\n",
    "A_aug = np.hstack([A,b])\n",
    "\n",
    "# Khử Gauss về dạng bậc thang\n",
    "gauss_jordan(A_aug)\n",
    "print(A_aug)\n",
    "\n",
    "# Giải hệ\n",
    "print(\"Nghiệm của hệ:\",A_aug[:,-1].flatten())"
   ]
  },
  {
   "cell_type": "markdown",
   "metadata": {},
   "source": [
    "# Bài 2: Thực hiện theo các yêu cầu như comment\n",
    "####Lưu ý đọc kĩ ví dụ 2"
   ]
  },
  {
   "cell_type": "code",
   "execution_count": 14,
   "metadata": {},
   "outputs": [
    {
     "data": {
      "image/png": "[encoded data removed]",
      "text/plain": [
       "<Figure size 432x288 with 1 Axes>"
      ]
     },
     "metadata": {
      "needs_background": "light"
     },
     "output_type": "display_data"
    },
    {
     "name": "stdout",
     "output_type": "stream",
     "text": [
      "Mo hinh: y=25792.200199+9449.962321x\n"
     ]
    },
    {
     "data": {
      "image/png": "[encoded data removed]",
      "text/plain": [
       "<Figure size 432x288 with 1 Axes>"
      ]
     },
     "metadata": {
      "needs_background": "light"
     },
     "output_type": "display_data"
    }
   ],
   "source": [
    "import matplotlib.pyplot as plt\n",
    "import numpy as np\n",
    "import pandas as pd\n",
    "\n",
    "# import mô hình Hồi quy tuyến tính từ thư viện sklearn\n",
    "from sklearn.linear_model import LinearRegression\n",
    "\n",
    "#đọc dữ liệu từ file data salary_data.csv\n",
    "path = 'C:/TrainingML/LinearRegression/salary_data.csv'\n",
    "salary_data = pd.read_csv(path)\n",
    "\n",
    "#định nghĩa biến đầu vào x\n",
    "x = np.array(salary_data.loc[:,'YearsExperience'])\n",
    "\n",
    "#định nghĩa biến đầu ra/mục tiêu y\n",
    "y = np.array(salary_data.loc[:,'Salary'])\n",
    "\n",
    "#vẽ đồ thị của biến đầu vào và đầu ra \n",
    "fig, ax = plt.subplots()\n",
    "_=plt.scatter(x,y,c='r', label = 'Original data')\n",
    "ax.set(xlabel='YearsExperience',ylabel='Salary')\n",
    "plt.show()\n",
    "#Xay dung mo hinh sử dụng thư viện sklearn\n",
    "model = LinearRegression(fit_intercept = True) #\n",
    "X= x[:,np.newaxis] # dựng \n",
    "model.fit(X,y)\n",
    "print('Mo hinh: y=%f+%fx'%(model.intercept_,model.coef_[0]))\n",
    "#ve do thi\n",
    "xfit = np.linspace(0,13)\n",
    "Xfit= xfit[:, np.newaxis]\n",
    "yfit = model.predict(Xfit)\n",
    "_=plt.scatter(x,y, label = 'Original data')\n",
    "_=plt.plot(xfit,yfit,'b',label = 'Fitted line')\n",
    "_=plt.legend()\n",
    "plt.show()"
   ]
  },
  {
   "cell_type": "code",
   "execution_count": 1,
   "metadata": {},
   "outputs": [
    {
     "data": {
      "image/png": "[encoded data removed]",
      "text/plain": [
       "<Figure size 432x288 with 1 Axes>"
      ]
     },
     "metadata": {
      "needs_background": "light"
     },
     "output_type": "display_data"
    }
   ],
   "source": [
    "import matplotlib.pyplot as plt\n",
    "import numpy as np\n",
    "import pandas as pd\n",
    "\n",
    "# import mô hình Hồi quy tuyến tính từ thư viện sklearn\n",
    "from sklearn.linear_model import LinearRegression\n",
    "\n",
    "#đọc dữ liệu từ file data salary_data.csv\n",
    "path = 'C:/TrainingML/LinearRegression/salary_data.csv'\n",
    "salary_data = pd.read_csv(path)\n",
    "\n",
    "#định nghĩa biến đầu vào x\n",
    "x = salary_data.loc[]\n",
    "#định nghĩa biến đầu ra/mục tiêu y\n",
    "\n",
    "\n",
    "#vẽ đồ thị của biến đầu vào và đầu ra \n",
    "\n",
    "\n",
    "\n",
    "#Xay dung mo hinh sử dụng thư viện sklearn\n",
    "\n",
    "\n",
    "#ve do thi\n",
    "xfit5 = np.linspace(0,12)\n",
    "Xfit5= xfit5[:, np.newaxis]\n",
    "yfit5 = model.predict(Xfit5)\n",
    "_=plt.scatter(x5,y5, label = 'Original data')\n",
    "_=plt.plot(xfit5,yfit5,'b',label = 'Fitted line')\n",
    "_=plt.legend()\n",
    "plt.show()"
   ]
  }
 ],
 "metadata": {
  "kernelspec": {
   "display_name": "Python 3",
   "language": "python",
   "name": "python3"
  },
  "language_info": {
   "codemirror_mode": {
    "name": "ipython",
    "version": 3
   },
   "file_extension": ".py",
   "mimetype": "text/x-python",
   "name": "python",
   "nbconvert_exporter": "python",
   "pygments_lexer": "ipython3",
   "version": "3.8.8"
  }
 },
 "nbformat": 4,
 "nbformat_minor": 4
}
